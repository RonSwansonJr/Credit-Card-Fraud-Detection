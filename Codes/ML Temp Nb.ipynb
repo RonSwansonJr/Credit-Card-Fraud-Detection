{
 "cells": [
  {
   "cell_type": "code",
   "execution_count": null,
   "metadata": {
    "scrolled": true
   },
   "outputs": [],
   "source": [
    "import numpy as np\n",
    "import matplotlib.pyplot as plt\n",
    "import pandas as pd\n",
    "from scipy import stats\n",
    "from sklearn.metrics import roc_auc_score\n",
    "\n",
    "df = pd.read_csv ('given_dataset.csv')\n",
    "df = df.drop('id', 1)\n",
    "#print(df)\n",
    "\n",
    "print()\n",
    "corr_matrix = df.corr()\n",
    "print(corr_matrix[\"T\"].sort_values(ascending=False))\n",
    "print()\n",
    "#Normalization does not help\n",
    "#normalized_df = (df - df.mean()) / df.std()\n",
    "#normalized_df[\"T\"] = df[\"T\"]\n",
    "#df = normalized_df\n",
    "\n",
    "#Removing outliers through Z-Score does not help\n",
    "#z_scores = stats.zscore(df)\n",
    "#abs_z_scores = np.abs(z_scores)\n",
    "#filtered_entries = (abs_z_scores < 3).all(axis=1)\n",
    "#new_df = df[filtered_entries]\n",
    "#df = new_df\n",
    "\n",
    "print(df)\n",
    "print()\n",
    "print(df.describe())"
   ]
  },
  {
   "cell_type": "code",
   "execution_count": null,
   "metadata": {},
   "outputs": [],
   "source": [
    "dataset = df.to_numpy()\n",
    "features = dataset[:,:-1]\n",
    "labels = dataset.T[-1]"
   ]
  },
  {
   "cell_type": "code",
   "execution_count": null,
   "metadata": {},
   "outputs": [],
   "source": [
    "from imblearn.under_sampling import RandomUnderSampler\n",
    "features, labels = RandomUnderSampler().fit_resample(features, labels)\n",
    "\n",
    "from imblearn.under_sampling import OneSidedSelection\n",
    "features, labels = OneSidedSelection().fit_resample(features, labels)"
   ]
  },
  {
   "cell_type": "code",
   "execution_count": null,
   "metadata": {},
   "outputs": [],
   "source": [
    "print(features)\n",
    "print()\n",
    "print(labels)"
   ]
  },
  {
   "cell_type": "code",
   "execution_count": null,
   "metadata": {},
   "outputs": [],
   "source": [
    "from sklearn.model_selection import train_test_split\n",
    "train_data, test_data, train_label, test_label = train_test_split(features, labels, test_size = 0.2, stratify = labels)\n",
    "#Stratified split done to ensure there are enough instances of each class\n",
    "\n",
    "print(train_data)\n",
    "print()\n",
    "print(train_label)\n",
    "\n",
    "#from sklearn.tree import DecisionTreeClassifier\n",
    "#dTree = DecisionTreeClassifier()\n",
    "#dTree = dTree.fit(train_data, train_label)"
   ]
  },
  {
   "cell_type": "code",
   "execution_count": null,
   "metadata": {},
   "outputs": [],
   "source": [
    "# from sklearn.model_selection import GridSearchCV\n",
    "\n",
    "# param_grid = {\n",
    "#     'max_depth': [60, 80, 100],\n",
    "#     'max_features': [4, 5, 6, 7, 8],\n",
    "#     'n_estimators': [100, 300, 500]\n",
    "# }\n",
    "\n",
    "# rf = RandomForestRegressor()\n",
    "\n",
    "# grid_search = GridSearchCV(estimator = rf, param_grid = param_grid, cv = 3, n_jobs = -1, verbose = 2)\n",
    "# grid_search.fit(train_data, train_label)\n",
    "# print(grid_search.best_params_)"
   ]
  },
  {
   "cell_type": "code",
   "execution_count": null,
   "metadata": {},
   "outputs": [],
   "source": [
    "from sklearn.ensemble import RandomForestClassifier\n",
    "from sklearn.ensemble import RandomForestRegressor\n",
    "#RandomForest as each tree in the forest is trained on a random subset of the data points with replacement (bagging / bootstrap aggregating)\n",
    "\n",
    "clf = RandomForestRegressor(n_jobs = -1, max_depth=85, max_features=5, n_estimators=500)\n",
    "clf.fit(train_data, train_label)\n",
    "test_predict = clf.predict(test_data)\n",
    "print(roc_auc_score(test_label, test_predict))"
   ]
  },
  {
   "cell_type": "code",
   "execution_count": null,
   "metadata": {},
   "outputs": [],
   "source": [
    "# from xgboost import XGBRegressor\n",
    "# clf = XGBRegressor(learning_rate=0.05, subsample=0.8, n_estimators=2500, n_jobs=-1, eval_metric='auc')\n",
    "# clf.fit(train_data, train_label)\n",
    "# test_predict = clf.predict(test_data)\n",
    "# print(roc_auc_score(test_label, test_predict))"
   ]
  },
  {
   "cell_type": "code",
   "execution_count": null,
   "metadata": {},
   "outputs": [],
   "source": [
    "#from imblearn.ensemble import BalancedRandomForestClassifier #If discrete is asked \n",
    "\n",
    "#clf = BalancedRandomForestClassifier()\n",
    "#clf.fit(train_data, train_label)\n",
    "#test_predict = clf.predict(test_data)\n",
    "#print(roc_auc_score(test_label, test_predict))"
   ]
  },
  {
   "cell_type": "code",
   "execution_count": null,
   "metadata": {},
   "outputs": [],
   "source": [
    "df2 = pd.read_csv ('to_predict.csv')\n",
    "validation_id = df2['id']\n",
    "\n",
    "df2 = df2.drop('id', 1)\n",
    "validation_data = df2.to_numpy()\n",
    "\n",
    "\n",
    "validation_predict_label = clf.predict(validation_data)\n",
    "\n",
    "\n",
    "print(validation_predict_label)\n",
    "print()\n",
    "print(validation_predict_label.shape)\n",
    "print()"
   ]
  },
  {
   "cell_type": "code",
   "execution_count": null,
   "metadata": {
    "scrolled": true
   },
   "outputs": [],
   "source": [
    "print(np.unique(validation_predict_label))\n",
    "\n",
    "finalData = np.column_stack((validation_id, validation_predict_label))\n",
    "print(finalData)"
   ]
  },
  {
   "cell_type": "code",
   "execution_count": null,
   "metadata": {
    "scrolled": true
   },
   "outputs": [],
   "source": [
    "output_df = pd.DataFrame(data = finalData, columns=['id','T'], dtype = np.float32)\n",
    "output_df['id'] = output_df['id'].astype(int)\n",
    "print(output_df)"
   ]
  },
  {
   "cell_type": "code",
   "execution_count": null,
   "metadata": {},
   "outputs": [],
   "source": [
    "output_df.to_csv('predicted.csv', index=False)"
   ]
  }
 ],
 "metadata": {
  "kernelspec": {
   "display_name": "Python 3",
   "language": "python",
   "name": "python3"
  },
  "language_info": {
   "codemirror_mode": {
    "name": "ipython",
    "version": 3
   },
   "file_extension": ".py",
   "mimetype": "text/x-python",
   "name": "python",
   "nbconvert_exporter": "python",
   "pygments_lexer": "ipython3",
   "version": "3.7.4"
  }
 },
 "nbformat": 4,
 "nbformat_minor": 2
}
